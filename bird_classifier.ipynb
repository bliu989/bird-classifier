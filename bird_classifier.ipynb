{
  "cells": [
    {
      "cell_type": "markdown",
      "metadata": {
        "id": "o78PE92Jzdjv"
      },
      "source": [
        "# Import data\n",
        "\n",
        "I am using a [dataset](https://www.kaggle.com/datasets/gpiosenka/100-bird-species) from Kaggle that contains 80,000+ images of birds from 525 species. The objective is to build a model that is able to classify bird species from new images with a high accuracy.\n",
        "\n",
        "The dataset is unbalanced, but each bird species has at least 130 images. The images are 224x224, with just one bird in the image taking up most of the image."
      ]
    },
    {
      "cell_type": "code",
      "execution_count": null,
      "metadata": {
        "id": "11zKopD5z3vm"
      },
      "outputs": [],
      "source": [
        "# copy kaggle.json to Colab first\n",
        "\n",
        "# download and unzip Kaggle dataset\n",
        "!mkdir ~/.kaggle\n",
        "!cp kaggle.json ~/.kaggle/\n",
        "!chmod 600 ~/.kaggle/kaggle.json\n",
        "!kaggle datasets download gpiosenka/100-bird-species\n",
        "!unzip 100-bird-species.zip"
      ]
    },
    {
      "cell_type": "markdown",
      "metadata": {
        "id": "Seu-neHzznbW"
      },
      "source": [
        "# Split data\n",
        "\n",
        "I'll split the data into training, validation, and test sets. Although the Kaggle dataset is already split into training, validation, and test sets, the splits given have images that are easier to classify in the validation and test sets. In order for the model to generalize better, I'll choose to use only the images from the training split in the Kaggle dataset.\n",
        "\n",
        "From the 'train' folder, I'll split the images into 70% training, 20% validation, and 10% test. The training set will be used to fit the model, the validation set will be used to evaluate the models with different hyperparameters in order to select the best one, and the test set will only be used at the end to see how well the best model performs with data it has never seen before."
      ]
    },
    {
      "cell_type": "code",
      "execution_count": 2,
      "metadata": {
        "id": "0myqw9JEoF1L"
      },
      "outputs": [],
      "source": [
        "import tensorflow as tf\n",
        "import os\n",
        "from matplotlib import pyplot as plt"
      ]
    },
    {
      "cell_type": "code",
      "execution_count": 3,
      "metadata": {
        "id": "c3DAOeB3py8j",
        "colab": {
          "base_uri": "https://localhost:8080/"
        },
        "outputId": "a8229b26-ee43-448e-b224-28a5d3521a79"
      },
      "outputs": [
        {
          "output_type": "stream",
          "name": "stdout",
          "text": [
            "Found 84635 files belonging to 525 classes.\n"
          ]
        }
      ],
      "source": [
        "# load in data from only the train folder\n",
        "data_dir = os.path.join('train')\n",
        "img_size = (224, 224)\n",
        "data = tf.keras.utils.image_dataset_from_directory(data_dir, seed = 20,\n",
        "                                                   image_size = img_size)"
      ]
    },
    {
      "cell_type": "code",
      "execution_count": 4,
      "metadata": {
        "id": "YEHp21U7rXB3"
      },
      "outputs": [],
      "source": [
        "# get labels for species\n",
        "labels = data.class_names\n",
        "num_classes = len(labels)"
      ]
    },
    {
      "cell_type": "code",
      "execution_count": 5,
      "metadata": {
        "id": "brp3Sp5TAepH"
      },
      "outputs": [],
      "source": [
        "# split data into 70% training, 20% validation, 10% test\n",
        "batches = len(data)\n",
        "\n",
        "train_size = int(batches*.7)\n",
        "val_size = int(batches*.2)\n",
        "test_size = batches - (train_size + val_size)\n",
        "\n",
        "train = data.take(train_size)\n",
        "val = data.skip(train_size).take(val_size)\n",
        "test = data.skip(train_size + val_size).take(test_size)"
      ]
    },
    {
      "cell_type": "markdown",
      "source": [
        "# Tune the hyperparameters of the CNN\n",
        "\n",
        "Since there are a large number of classes, a more complex model is probably needed to achieve a high classification accuracy. In addition, such a model will require a large amount of resources, so I'll make use of transfer learning to help the training not be so computationally expensive.\n",
        "\n",
        "The base model will be EfficientNetB0 trained on ImageNet. Then I'll add some number of dense layers on top of the neural network for further processing. Finally, the data goes through one last dense layer for classification. A dropout layer is also added between the dense layers to prevent overfitting. Whether a batch normalization layer can be added after a dense layer is another hyperparameter to be decided. The hyperparameters to be determined here are the number of dense layers besides the final one, the number of units for each dense layer, the dropout rate for each dropout layer, and whether a batch normalization layer is added after each dense layer except the last one.\n",
        "\n",
        "Since the number of combinations of hyperparameters is large, I'll use Bayesian optimization to make informed decisions as to which set of hyperparameter values to try next."
      ],
      "metadata": {
        "id": "7sYYnhk0opsh"
      }
    },
    {
      "cell_type": "code",
      "execution_count": 7,
      "metadata": {
        "id": "HOiLlGKnrj6E"
      },
      "outputs": [],
      "source": [
        "import tensorflow as tf\n",
        "from tensorflow.keras.models import Sequential\n",
        "from tensorflow.keras import layers\n",
        "from tensorflow.keras.optimizers import Adam\n",
        "from tensorflow.keras.applications.efficientnet import *"
      ]
    },
    {
      "cell_type": "code",
      "source": [
        "!pip install --upgrade keras-tuner"
      ],
      "metadata": {
        "id": "c8-ADbkABByZ",
        "colab": {
          "base_uri": "https://localhost:8080/"
        },
        "outputId": "c5cdb2bd-f5f7-438b-eaaa-cf1fe2a549a5"
      },
      "execution_count": 7,
      "outputs": [
        {
          "output_type": "stream",
          "name": "stdout",
          "text": [
            "Collecting keras-tuner\n",
            "  Downloading keras_tuner-1.4.6-py3-none-any.whl (128 kB)\n",
            "\u001b[2K     \u001b[90m━━━━━━━━━━━━━━━━━━━━━━━━━━━━━━━━━━━━━━━━\u001b[0m \u001b[32m128.9/128.9 kB\u001b[0m \u001b[31m4.1 MB/s\u001b[0m eta \u001b[36m0:00:00\u001b[0m\n",
            "\u001b[?25hRequirement already satisfied: keras in /usr/local/lib/python3.10/dist-packages (from keras-tuner) (2.14.0)\n",
            "Requirement already satisfied: packaging in /usr/local/lib/python3.10/dist-packages (from keras-tuner) (23.2)\n",
            "Requirement already satisfied: requests in /usr/local/lib/python3.10/dist-packages (from keras-tuner) (2.31.0)\n",
            "Collecting kt-legacy (from keras-tuner)\n",
            "  Downloading kt_legacy-1.0.5-py3-none-any.whl (9.6 kB)\n",
            "Requirement already satisfied: charset-normalizer<4,>=2 in /usr/local/lib/python3.10/dist-packages (from requests->keras-tuner) (3.3.2)\n",
            "Requirement already satisfied: idna<4,>=2.5 in /usr/local/lib/python3.10/dist-packages (from requests->keras-tuner) (3.6)\n",
            "Requirement already satisfied: urllib3<3,>=1.21.1 in /usr/local/lib/python3.10/dist-packages (from requests->keras-tuner) (2.0.7)\n",
            "Requirement already satisfied: certifi>=2017.4.17 in /usr/local/lib/python3.10/dist-packages (from requests->keras-tuner) (2023.11.17)\n",
            "Installing collected packages: kt-legacy, keras-tuner\n",
            "Successfully installed keras-tuner-1.4.6 kt-legacy-1.0.5\n"
          ]
        }
      ]
    },
    {
      "cell_type": "code",
      "source": [
        "import keras_tuner\n",
        "import keras"
      ],
      "metadata": {
        "id": "jvobAq34-Tij"
      },
      "execution_count": 8,
      "outputs": []
    },
    {
      "cell_type": "code",
      "source": [
        "# define the hypermodel\n",
        "def build_model(hp):\n",
        "    model = Sequential()\n",
        "\n",
        "    efficient_net = EfficientNetB0(\n",
        "        weights='imagenet',\n",
        "        input_shape=(224,224,3),\n",
        "        include_top=False,\n",
        "        pooling='max'\n",
        "    )\n",
        "\n",
        "    model.add(efficient_net)\n",
        "    for layer in model.layers:\n",
        "        layer.trainable = False\n",
        "\n",
        "    num_dense_layers = hp.Choice('num_dense_layers', [1, 2, 3, 4, 5])\n",
        "    for i in range(num_dense_layers):\n",
        "        model.add(layers.Dense(hp.Choice(f'units{i+1}', [256, 512, 1024, 2048]),\n",
        "                              activation='relu'))\n",
        "        model.add(layers.Dropout(hp.Choice(f'dropout{i+1}',\n",
        "                                [0.0, 0.1, 0.2, 0.3, 0.4])))\n",
        "        if hp.Boolean(f'batch{i+1}'):\n",
        "          model.add(layers.BatchNormalization())\n",
        "\n",
        "    model.add(layers.Dense(num_classes, activation='softmax'))\n",
        "    learning_rate = 0.001\n",
        "    model.compile(optimizer=Adam(learning_rate),\n",
        "                  loss=tf.keras.losses.SparseCategoricalCrossentropy(),\n",
        "                  metrics=['accuracy',\n",
        "                          tf.keras.metrics.SparseTopKCategoricalAccuracy()])\n",
        "    return model"
      ],
      "metadata": {
        "id": "1yFJF67McCfN"
      },
      "execution_count": 9,
      "outputs": []
    },
    {
      "cell_type": "code",
      "source": [
        "# set up the Bayesian optimization tuner\n",
        "tuner = keras_tuner.BayesianOptimization(\n",
        "    build_model,\n",
        "    objective = 'val_accuracy',\n",
        "    max_trials = 60,\n",
        "    directory = 'drive/MyDrive/bird_tuner'\n",
        ")"
      ],
      "metadata": {
        "id": "vE8vzOlcB5eB",
        "colab": {
          "base_uri": "https://localhost:8080/"
        },
        "outputId": "961ac82f-1a73-4cb1-f526-f7814f169132"
      },
      "execution_count": 10,
      "outputs": [
        {
          "output_type": "stream",
          "name": "stdout",
          "text": [
            "Reloading Tuner from drive/MyDrive/bird_tuner/untitled_project/tuner0.json\n"
          ]
        }
      ]
    },
    {
      "cell_type": "code",
      "source": [
        "tuner.search(train, epochs=2, validation_data=val)\n",
        "best_model = tuner.get_best_models()[0]"
      ],
      "metadata": {
        "id": "qmv_ebFN-INg",
        "colab": {
          "base_uri": "https://localhost:8080/"
        },
        "outputId": "187a72c6-ee4c-4920-a978-1f0c78667355"
      },
      "execution_count": 11,
      "outputs": [
        {
          "output_type": "stream",
          "name": "stdout",
          "text": [
            "Trial 60 Complete [00h 02m 52s]\n",
            "val_accuracy: 0.8447542786598206\n",
            "\n",
            "Best val_accuracy So Far: 0.8830340504646301\n",
            "Total elapsed time: 13h 15m 01s\n"
          ]
        }
      ]
    },
    {
      "cell_type": "code",
      "source": [
        "best_model.summary()"
      ],
      "metadata": {
        "id": "rY_UmUrWnAkL",
        "colab": {
          "base_uri": "https://localhost:8080/"
        },
        "outputId": "9023f798-1b3b-4acf-f1f7-7adc969c27c7"
      },
      "execution_count": 12,
      "outputs": [
        {
          "output_type": "stream",
          "name": "stdout",
          "text": [
            "Model: \"sequential\"\n",
            "_________________________________________________________________\n",
            " Layer (type)                Output Shape              Param #   \n",
            "=================================================================\n",
            " efficientnetb0 (Functional  (None, 1280)              4049571   \n",
            " )                                                               \n",
            "                                                                 \n",
            " dense (Dense)               (None, 256)               327936    \n",
            "                                                                 \n",
            " dropout (Dropout)           (None, 256)               0         \n",
            "                                                                 \n",
            " batch_normalization (Batch  (None, 256)               1024      \n",
            " Normalization)                                                  \n",
            "                                                                 \n",
            " dense_1 (Dense)             (None, 525)               134925    \n",
            "                                                                 \n",
            "=================================================================\n",
            "Total params: 4513456 (17.22 MB)\n",
            "Trainable params: 463373 (1.77 MB)\n",
            "Non-trainable params: 4050083 (15.45 MB)\n",
            "_________________________________________________________________\n"
          ]
        }
      ]
    },
    {
      "cell_type": "code",
      "source": [
        "tuner.results_summary()"
      ],
      "metadata": {
        "colab": {
          "base_uri": "https://localhost:8080/"
        },
        "id": "d-zGeFSWkNmw",
        "outputId": "833e83ff-7333-4b1a-f81c-79122a38da7d"
      },
      "execution_count": 13,
      "outputs": [
        {
          "output_type": "stream",
          "name": "stdout",
          "text": [
            "Results summary\n",
            "Results in drive/MyDrive/bird_tuner/untitled_project\n",
            "Showing 10 best trials\n",
            "Objective(name=\"val_accuracy\", direction=\"max\")\n",
            "\n",
            "Trial 57 summary\n",
            "Hyperparameters:\n",
            "num_dense_layers: 1\n",
            "units1: 256\n",
            "dropout1: 0.1\n",
            "batch1: True\n",
            "units2: 512\n",
            "dropout2: 0.2\n",
            "batch2: False\n",
            "units3: 2048\n",
            "dropout3: 0.4\n",
            "batch3: False\n",
            "units4: 1024\n",
            "dropout4: 0.0\n",
            "batch4: True\n",
            "units5: 256\n",
            "dropout5: 0.2\n",
            "batch5: True\n",
            "Score: 0.8830340504646301\n",
            "\n",
            "Trial 15 summary\n",
            "Hyperparameters:\n",
            "num_dense_layers: 1\n",
            "units1: 512\n",
            "dropout1: 0.0\n",
            "batch1: True\n",
            "units2: 1024\n",
            "dropout2: 0.1\n",
            "batch2: False\n",
            "units3: 256\n",
            "dropout3: 0.1\n",
            "batch3: True\n",
            "units4: 256\n",
            "dropout4: 0.4\n",
            "batch4: False\n",
            "units5: 256\n",
            "dropout5: 0.3\n",
            "batch5: False\n",
            "Score: 0.8719281554222107\n",
            "\n",
            "Trial 58 summary\n",
            "Hyperparameters:\n",
            "num_dense_layers: 1\n",
            "units1: 256\n",
            "dropout1: 0.0\n",
            "batch1: True\n",
            "units2: 256\n",
            "dropout2: 0.1\n",
            "batch2: False\n",
            "units3: 256\n",
            "dropout3: 0.2\n",
            "batch3: True\n",
            "units4: 256\n",
            "dropout4: 0.0\n",
            "batch4: False\n",
            "units5: 256\n",
            "dropout5: 0.4\n",
            "batch5: True\n",
            "Score: 0.8718100190162659\n",
            "\n",
            "Trial 33 summary\n",
            "Hyperparameters:\n",
            "num_dense_layers: 1\n",
            "units1: 256\n",
            "dropout1: 0.2\n",
            "batch1: True\n",
            "units2: 512\n",
            "dropout2: 0.0\n",
            "batch2: False\n",
            "units3: 512\n",
            "dropout3: 0.1\n",
            "batch3: False\n",
            "units4: 512\n",
            "dropout4: 0.1\n",
            "batch4: True\n",
            "units5: 256\n",
            "dropout5: 0.3\n",
            "batch5: False\n",
            "Score: 0.8698605895042419\n",
            "\n",
            "Trial 52 summary\n",
            "Hyperparameters:\n",
            "num_dense_layers: 1\n",
            "units1: 256\n",
            "dropout1: 0.0\n",
            "batch1: True\n",
            "units2: 1024\n",
            "dropout2: 0.1\n",
            "batch2: True\n",
            "units3: 512\n",
            "dropout3: 0.0\n",
            "batch3: True\n",
            "units4: 1024\n",
            "dropout4: 0.3\n",
            "batch4: True\n",
            "units5: 256\n",
            "dropout5: 0.2\n",
            "batch5: False\n",
            "Score: 0.8656072616577148\n",
            "\n",
            "Trial 53 summary\n",
            "Hyperparameters:\n",
            "num_dense_layers: 1\n",
            "units1: 512\n",
            "dropout1: 0.1\n",
            "batch1: True\n",
            "units2: 1024\n",
            "dropout2: 0.0\n",
            "batch2: True\n",
            "units3: 256\n",
            "dropout3: 0.0\n",
            "batch3: False\n",
            "units4: 1024\n",
            "dropout4: 0.1\n",
            "batch4: False\n",
            "units5: 512\n",
            "dropout5: 0.3\n",
            "batch5: False\n",
            "Score: 0.8626536130905151\n",
            "\n",
            "Trial 49 summary\n",
            "Hyperparameters:\n",
            "num_dense_layers: 1\n",
            "units1: 512\n",
            "dropout1: 0.2\n",
            "batch1: True\n",
            "units2: 2048\n",
            "dropout2: 0.1\n",
            "batch2: False\n",
            "units3: 1024\n",
            "dropout3: 0.2\n",
            "batch3: True\n",
            "units4: 1024\n",
            "dropout4: 0.2\n",
            "batch4: False\n",
            "units5: 256\n",
            "dropout5: 0.2\n",
            "batch5: False\n",
            "Score: 0.8618856072425842\n",
            "\n",
            "Trial 51 summary\n",
            "Hyperparameters:\n",
            "num_dense_layers: 1\n",
            "units1: 256\n",
            "dropout1: 0.1\n",
            "batch1: True\n",
            "units2: 1024\n",
            "dropout2: 0.1\n",
            "batch2: False\n",
            "units3: 512\n",
            "dropout3: 0.2\n",
            "batch3: True\n",
            "units4: 256\n",
            "dropout4: 0.1\n",
            "batch4: True\n",
            "units5: 1024\n",
            "dropout5: 0.3\n",
            "batch5: False\n",
            "Score: 0.8611176609992981\n",
            "\n",
            "Trial 54 summary\n",
            "Hyperparameters:\n",
            "num_dense_layers: 1\n",
            "units1: 512\n",
            "dropout1: 0.0\n",
            "batch1: True\n",
            "units2: 1024\n",
            "dropout2: 0.2\n",
            "batch2: True\n",
            "units3: 2048\n",
            "dropout3: 0.2\n",
            "batch3: False\n",
            "units4: 2048\n",
            "dropout4: 0.2\n",
            "batch4: False\n",
            "units5: 256\n",
            "dropout5: 0.1\n",
            "batch5: False\n",
            "Score: 0.859286367893219\n",
            "\n",
            "Trial 50 summary\n",
            "Hyperparameters:\n",
            "num_dense_layers: 1\n",
            "units1: 256\n",
            "dropout1: 0.3\n",
            "batch1: True\n",
            "units2: 2048\n",
            "dropout2: 0.2\n",
            "batch2: True\n",
            "units3: 512\n",
            "dropout3: 0.2\n",
            "batch3: False\n",
            "units4: 1024\n",
            "dropout4: 0.0\n",
            "batch4: True\n",
            "units5: 256\n",
            "dropout5: 0.3\n",
            "batch5: False\n",
            "Score: 0.8592272996902466\n"
          ]
        }
      ]
    },
    {
      "cell_type": "markdown",
      "source": [
        "# Train the first model\n",
        "\n",
        "In this section, I grab the best model according to the Bayesian optimization tuner and train it further. Early stopping is implemented to stop the model from training if its performance is not improving anymore."
      ],
      "metadata": {
        "id": "yZEoCSf2kX7i"
      }
    },
    {
      "cell_type": "code",
      "source": [
        "# grab the best model from the tuner\n",
        "best_hp = tuner.get_best_hyperparameters()[0]\n",
        "model = build_model(best_hp)"
      ],
      "metadata": {
        "id": "sly5SbavlWao"
      },
      "execution_count": 17,
      "outputs": []
    },
    {
      "cell_type": "code",
      "execution_count": 18,
      "metadata": {
        "colab": {
          "base_uri": "https://localhost:8080/"
        },
        "id": "jO0maxqsruII",
        "outputId": "9b74cfe0-9d69-4aa7-8d11-13c57c1b4524"
      },
      "outputs": [
        {
          "output_type": "stream",
          "name": "stdout",
          "text": [
            "Epoch 1/50\n",
            "1851/1851 [==============================] - 87s 43ms/step - loss: 1.5578 - accuracy: 0.7038 - sparse_top_k_categorical_accuracy: 0.8633 - val_loss: 0.5970 - val_accuracy: 0.8566 - val_sparse_top_k_categorical_accuracy: 0.9642\n",
            "Epoch 2/50\n",
            "1851/1851 [==============================] - 78s 42ms/step - loss: 0.5499 - accuracy: 0.8649 - sparse_top_k_categorical_accuracy: 0.9688 - val_loss: 0.5905 - val_accuracy: 0.8508 - val_sparse_top_k_categorical_accuracy: 0.9624\n",
            "Epoch 3/50\n",
            "1851/1851 [==============================] - 82s 44ms/step - loss: 0.4687 - accuracy: 0.8772 - sparse_top_k_categorical_accuracy: 0.9755 - val_loss: 0.4913 - val_accuracy: 0.8738 - val_sparse_top_k_categorical_accuracy: 0.9700\n",
            "Epoch 4/50\n",
            "1851/1851 [==============================] - 78s 42ms/step - loss: 0.4221 - accuracy: 0.8876 - sparse_top_k_categorical_accuracy: 0.9792 - val_loss: 0.4661 - val_accuracy: 0.8813 - val_sparse_top_k_categorical_accuracy: 0.9734\n",
            "Epoch 5/50\n",
            "1851/1851 [==============================] - 78s 42ms/step - loss: 0.3910 - accuracy: 0.8934 - sparse_top_k_categorical_accuracy: 0.9822 - val_loss: 0.4794 - val_accuracy: 0.8788 - val_sparse_top_k_categorical_accuracy: 0.9712\n",
            "Epoch 6/50\n",
            "1851/1851 [==============================] - 79s 42ms/step - loss: 0.3513 - accuracy: 0.9016 - sparse_top_k_categorical_accuracy: 0.9851 - val_loss: 0.4698 - val_accuracy: 0.8810 - val_sparse_top_k_categorical_accuracy: 0.9711\n",
            "Epoch 7/50\n",
            "1851/1851 [==============================] - 79s 42ms/step - loss: 0.3126 - accuracy: 0.9098 - sparse_top_k_categorical_accuracy: 0.9877 - val_loss: 0.4779 - val_accuracy: 0.8806 - val_sparse_top_k_categorical_accuracy: 0.9704\n",
            "Epoch 8/50\n",
            "1851/1851 [==============================] - 78s 42ms/step - loss: 0.3117 - accuracy: 0.9100 - sparse_top_k_categorical_accuracy: 0.9879 - val_loss: 0.4441 - val_accuracy: 0.8923 - val_sparse_top_k_categorical_accuracy: 0.9738\n",
            "Epoch 9/50\n",
            "1851/1851 [==============================] - 79s 43ms/step - loss: 0.3028 - accuracy: 0.9120 - sparse_top_k_categorical_accuracy: 0.9881 - val_loss: 0.4462 - val_accuracy: 0.8924 - val_sparse_top_k_categorical_accuracy: 0.9751\n",
            "Epoch 10/50\n",
            "1851/1851 [==============================] - 78s 42ms/step - loss: 0.2809 - accuracy: 0.9161 - sparse_top_k_categorical_accuracy: 0.9907 - val_loss: 0.4447 - val_accuracy: 0.8970 - val_sparse_top_k_categorical_accuracy: 0.9738\n",
            "Epoch 11/50\n",
            "1851/1851 [==============================] - 78s 42ms/step - loss: 0.2711 - accuracy: 0.9208 - sparse_top_k_categorical_accuracy: 0.9901 - val_loss: 0.4578 - val_accuracy: 0.8936 - val_sparse_top_k_categorical_accuracy: 0.9732\n",
            "Epoch 12/50\n",
            "1851/1851 [==============================] - 78s 42ms/step - loss: 0.2534 - accuracy: 0.9249 - sparse_top_k_categorical_accuracy: 0.9917 - val_loss: 0.4693 - val_accuracy: 0.8879 - val_sparse_top_k_categorical_accuracy: 0.9722\n",
            "Epoch 13/50\n",
            "1851/1851 [==============================] - 78s 42ms/step - loss: 0.2503 - accuracy: 0.9260 - sparse_top_k_categorical_accuracy: 0.9922 - val_loss: 0.4332 - val_accuracy: 0.8993 - val_sparse_top_k_categorical_accuracy: 0.9756\n",
            "Epoch 14/50\n",
            "1851/1851 [==============================] - 78s 42ms/step - loss: 0.2390 - accuracy: 0.9286 - sparse_top_k_categorical_accuracy: 0.9929 - val_loss: 0.4523 - val_accuracy: 0.8947 - val_sparse_top_k_categorical_accuracy: 0.9731\n",
            "Epoch 15/50\n",
            "1851/1851 [==============================] - 78s 42ms/step - loss: 0.2317 - accuracy: 0.9306 - sparse_top_k_categorical_accuracy: 0.9928 - val_loss: 0.4966 - val_accuracy: 0.8893 - val_sparse_top_k_categorical_accuracy: 0.9716\n",
            "Epoch 16/50\n",
            "1851/1851 [==============================] - 78s 42ms/step - loss: 0.2340 - accuracy: 0.9293 - sparse_top_k_categorical_accuracy: 0.9933 - val_loss: 0.5053 - val_accuracy: 0.8862 - val_sparse_top_k_categorical_accuracy: 0.9726\n",
            "Epoch 17/50\n",
            "1851/1851 [==============================] - 78s 42ms/step - loss: 0.2346 - accuracy: 0.9283 - sparse_top_k_categorical_accuracy: 0.9931 - val_loss: 0.4548 - val_accuracy: 0.8971 - val_sparse_top_k_categorical_accuracy: 0.9757\n",
            "Epoch 18/50\n",
            "1851/1851 [==============================] - 78s 42ms/step - loss: 0.2261 - accuracy: 0.9322 - sparse_top_k_categorical_accuracy: 0.9936 - val_loss: 0.4774 - val_accuracy: 0.8933 - val_sparse_top_k_categorical_accuracy: 0.9735\n",
            "Epoch 19/50\n",
            "1851/1851 [==============================] - 78s 42ms/step - loss: 0.2296 - accuracy: 0.9295 - sparse_top_k_categorical_accuracy: 0.9934 - val_loss: 0.4501 - val_accuracy: 0.8967 - val_sparse_top_k_categorical_accuracy: 0.9751\n",
            "Epoch 20/50\n",
            "1851/1851 [==============================] - 78s 42ms/step - loss: 0.2289 - accuracy: 0.9299 - sparse_top_k_categorical_accuracy: 0.9935 - val_loss: 0.4518 - val_accuracy: 0.8981 - val_sparse_top_k_categorical_accuracy: 0.9757\n",
            "Epoch 21/50\n",
            "1851/1851 [==============================] - 78s 42ms/step - loss: 0.2190 - accuracy: 0.9329 - sparse_top_k_categorical_accuracy: 0.9934 - val_loss: 0.4661 - val_accuracy: 0.8945 - val_sparse_top_k_categorical_accuracy: 0.9757\n",
            "Epoch 22/50\n",
            "1851/1851 [==============================] - 78s 42ms/step - loss: 0.2074 - accuracy: 0.9365 - sparse_top_k_categorical_accuracy: 0.9943 - val_loss: 0.4629 - val_accuracy: 0.8974 - val_sparse_top_k_categorical_accuracy: 0.9754\n",
            "Epoch 23/50\n",
            "1851/1851 [==============================] - 82s 44ms/step - loss: 0.2027 - accuracy: 0.9380 - sparse_top_k_categorical_accuracy: 0.9946 - val_loss: 0.4508 - val_accuracy: 0.9016 - val_sparse_top_k_categorical_accuracy: 0.9770\n",
            "Epoch 24/50\n",
            "1851/1851 [==============================] - 78s 42ms/step - loss: 0.2026 - accuracy: 0.9376 - sparse_top_k_categorical_accuracy: 0.9949 - val_loss: 0.4693 - val_accuracy: 0.8972 - val_sparse_top_k_categorical_accuracy: 0.9744\n",
            "Epoch 25/50\n",
            "1851/1851 [==============================] - 82s 44ms/step - loss: 0.2063 - accuracy: 0.9370 - sparse_top_k_categorical_accuracy: 0.9944 - val_loss: 0.4661 - val_accuracy: 0.9001 - val_sparse_top_k_categorical_accuracy: 0.9755\n",
            "Epoch 26/50\n",
            "1851/1851 [==============================] - 78s 42ms/step - loss: 0.1977 - accuracy: 0.9386 - sparse_top_k_categorical_accuracy: 0.9947 - val_loss: 0.4823 - val_accuracy: 0.9003 - val_sparse_top_k_categorical_accuracy: 0.9755\n",
            "Epoch 27/50\n",
            "1851/1851 [==============================] - 78s 42ms/step - loss: 0.1893 - accuracy: 0.9417 - sparse_top_k_categorical_accuracy: 0.9952 - val_loss: 0.4542 - val_accuracy: 0.9026 - val_sparse_top_k_categorical_accuracy: 0.9765\n",
            "Epoch 28/50\n",
            "1851/1851 [==============================] - 78s 42ms/step - loss: 0.1882 - accuracy: 0.9423 - sparse_top_k_categorical_accuracy: 0.9956 - val_loss: 0.4834 - val_accuracy: 0.8937 - val_sparse_top_k_categorical_accuracy: 0.9749\n",
            "Epoch 29/50\n",
            "1851/1851 [==============================] - 82s 44ms/step - loss: 0.1883 - accuracy: 0.9414 - sparse_top_k_categorical_accuracy: 0.9953 - val_loss: 0.4617 - val_accuracy: 0.8974 - val_sparse_top_k_categorical_accuracy: 0.9751\n",
            "Epoch 30/50\n",
            "1851/1851 [==============================] - 78s 42ms/step - loss: 0.1869 - accuracy: 0.9423 - sparse_top_k_categorical_accuracy: 0.9953 - val_loss: 0.4594 - val_accuracy: 0.9032 - val_sparse_top_k_categorical_accuracy: 0.9760\n",
            "Epoch 31/50\n",
            "1851/1851 [==============================] - 78s 42ms/step - loss: 0.1843 - accuracy: 0.9431 - sparse_top_k_categorical_accuracy: 0.9954 - val_loss: 0.4713 - val_accuracy: 0.8985 - val_sparse_top_k_categorical_accuracy: 0.9738\n",
            "Epoch 32/50\n",
            "1851/1851 [==============================] - 78s 42ms/step - loss: 0.1775 - accuracy: 0.9440 - sparse_top_k_categorical_accuracy: 0.9959 - val_loss: 0.4629 - val_accuracy: 0.8999 - val_sparse_top_k_categorical_accuracy: 0.9745\n",
            "Epoch 33/50\n",
            "1851/1851 [==============================] - 79s 43ms/step - loss: 0.1734 - accuracy: 0.9457 - sparse_top_k_categorical_accuracy: 0.9960 - val_loss: 0.4995 - val_accuracy: 0.8969 - val_sparse_top_k_categorical_accuracy: 0.9736\n",
            "Epoch 34/50\n",
            "1851/1851 [==============================] - 78s 42ms/step - loss: 0.1794 - accuracy: 0.9444 - sparse_top_k_categorical_accuracy: 0.9961 - val_loss: 0.4729 - val_accuracy: 0.9020 - val_sparse_top_k_categorical_accuracy: 0.9755\n",
            "Epoch 35/50\n",
            "1851/1851 [==============================] - 78s 42ms/step - loss: 0.1700 - accuracy: 0.9464 - sparse_top_k_categorical_accuracy: 0.9968 - val_loss: 0.4578 - val_accuracy: 0.9032 - val_sparse_top_k_categorical_accuracy: 0.9765\n",
            "Epoch 36/50\n",
            "1851/1851 [==============================] - 78s 42ms/step - loss: 0.1659 - accuracy: 0.9478 - sparse_top_k_categorical_accuracy: 0.9962 - val_loss: 0.4463 - val_accuracy: 0.9053 - val_sparse_top_k_categorical_accuracy: 0.9776\n",
            "Epoch 37/50\n",
            "1851/1851 [==============================] - 78s 42ms/step - loss: 0.1642 - accuracy: 0.9477 - sparse_top_k_categorical_accuracy: 0.9965 - val_loss: 0.4649 - val_accuracy: 0.9050 - val_sparse_top_k_categorical_accuracy: 0.9777\n",
            "Epoch 38/50\n",
            "1851/1851 [==============================] - 78s 42ms/step - loss: 0.1627 - accuracy: 0.9499 - sparse_top_k_categorical_accuracy: 0.9962 - val_loss: 0.4740 - val_accuracy: 0.9016 - val_sparse_top_k_categorical_accuracy: 0.9767\n",
            "Epoch 39/50\n",
            "1851/1851 [==============================] - 82s 44ms/step - loss: 0.1602 - accuracy: 0.9503 - sparse_top_k_categorical_accuracy: 0.9968 - val_loss: 0.4642 - val_accuracy: 0.9011 - val_sparse_top_k_categorical_accuracy: 0.9757\n",
            "Epoch 40/50\n",
            "1851/1851 [==============================] - 78s 42ms/step - loss: 0.1581 - accuracy: 0.9506 - sparse_top_k_categorical_accuracy: 0.9965 - val_loss: 0.4880 - val_accuracy: 0.8981 - val_sparse_top_k_categorical_accuracy: 0.9760\n",
            "Epoch 41/50\n",
            "1851/1851 [==============================] - 82s 44ms/step - loss: 0.1536 - accuracy: 0.9516 - sparse_top_k_categorical_accuracy: 0.9966 - val_loss: 0.4929 - val_accuracy: 0.8977 - val_sparse_top_k_categorical_accuracy: 0.9744\n",
            "Epoch 42/50\n",
            "1851/1851 [==============================] - 78s 42ms/step - loss: 0.1549 - accuracy: 0.9511 - sparse_top_k_categorical_accuracy: 0.9971 - val_loss: 0.4815 - val_accuracy: 0.9031 - val_sparse_top_k_categorical_accuracy: 0.9751\n",
            "Epoch 43/50\n",
            "1851/1851 [==============================] - 78s 42ms/step - loss: 0.1560 - accuracy: 0.9514 - sparse_top_k_categorical_accuracy: 0.9969 - val_loss: 0.4779 - val_accuracy: 0.9011 - val_sparse_top_k_categorical_accuracy: 0.9763\n",
            "Epoch 44/50\n",
            "1851/1851 [==============================] - 79s 42ms/step - loss: 0.1471 - accuracy: 0.9529 - sparse_top_k_categorical_accuracy: 0.9971 - val_loss: 0.5000 - val_accuracy: 0.8996 - val_sparse_top_k_categorical_accuracy: 0.9751\n",
            "Epoch 45/50\n",
            "1851/1851 [==============================] - 82s 44ms/step - loss: 0.1512 - accuracy: 0.9522 - sparse_top_k_categorical_accuracy: 0.9969 - val_loss: 0.4783 - val_accuracy: 0.9071 - val_sparse_top_k_categorical_accuracy: 0.9767\n",
            "Epoch 46/50\n",
            "1851/1851 [==============================] - 78s 42ms/step - loss: 0.1464 - accuracy: 0.9539 - sparse_top_k_categorical_accuracy: 0.9971 - val_loss: 0.4783 - val_accuracy: 0.9041 - val_sparse_top_k_categorical_accuracy: 0.9754\n",
            "Epoch 47/50\n",
            "1851/1851 [==============================] - 79s 42ms/step - loss: 0.1466 - accuracy: 0.9539 - sparse_top_k_categorical_accuracy: 0.9974 - val_loss: 0.4813 - val_accuracy: 0.9042 - val_sparse_top_k_categorical_accuracy: 0.9751\n",
            "Epoch 48/50\n",
            "1851/1851 [==============================] - 78s 42ms/step - loss: 0.1462 - accuracy: 0.9534 - sparse_top_k_categorical_accuracy: 0.9974 - val_loss: 0.4865 - val_accuracy: 0.9012 - val_sparse_top_k_categorical_accuracy: 0.9755\n",
            "Epoch 49/50\n",
            "1851/1851 [==============================] - 79s 42ms/step - loss: 0.1403 - accuracy: 0.9553 - sparse_top_k_categorical_accuracy: 0.9974 - val_loss: 0.4769 - val_accuracy: 0.9050 - val_sparse_top_k_categorical_accuracy: 0.9761\n",
            "Epoch 50/50\n",
            "1851/1851 [==============================] - 78s 42ms/step - loss: 0.1396 - accuracy: 0.9556 - sparse_top_k_categorical_accuracy: 0.9971 - val_loss: 0.4659 - val_accuracy: 0.9063 - val_sparse_top_k_categorical_accuracy: 0.9767\n"
          ]
        }
      ],
      "source": [
        "# train model\n",
        "callback = tf.keras.callbacks.EarlyStopping(monitor='loss', patience=3)\n",
        "hist = model.fit(train, epochs=50, validation_data = val, callbacks = [callback])"
      ]
    },
    {
      "cell_type": "code",
      "execution_count": 19,
      "metadata": {
        "id": "VSLn8dENgLZh",
        "colab": {
          "base_uri": "https://localhost:8080/"
        },
        "outputId": "e7c6817a-402a-483f-dd2f-5e3863bbd38c"
      },
      "outputs": [
        {
          "output_type": "stream",
          "name": "stderr",
          "text": [
            "/usr/local/lib/python3.10/dist-packages/keras/src/engine/training.py:3079: UserWarning: You are saving your model as an HDF5 file via `model.save()`. This file format is considered legacy. We recommend using instead the native Keras format, e.g. `model.save('my_model.keras')`.\n",
            "  saving_api.save_model(\n"
          ]
        }
      ],
      "source": [
        "# save model\n",
        "model.save(\"drive/MyDrive/bird_classifier.h5\")"
      ]
    },
    {
      "cell_type": "code",
      "source": [
        "# plot accuracy by epoch\n",
        "plt.plot(hist.history['accuracy'], label='Training Accuracy')\n",
        "plt.plot(hist.history['val_accuracy'], label='Validation Accuracy')\n",
        "plt.xlabel('Epoch')\n",
        "plt.ylabel('Accuracy')\n",
        "plt.legend()\n",
        "plt.show()"
      ],
      "metadata": {
        "colab": {
          "base_uri": "https://localhost:8080/",
          "height": 449
        },
        "id": "oH5BcpzU3s4R",
        "outputId": "0b2c92bb-fcfe-4cdf-b6c0-997d97b74959"
      },
      "execution_count": 21,
      "outputs": [
        {
          "output_type": "display_data",
          "data": {
            "text/plain": [
              "<Figure size 640x480 with 1 Axes>"
            ],
            "image/png": "[encoded data removed]"
          },
          "metadata": {}
        }
      ]
    },
    {
      "cell_type": "markdown",
      "source": [
        "# Further tune the model\n",
        "\n",
        "The top 5 models found by Bayesian optimization all use only one dense layer besides the top layer and batch optimization. I'll now use a grid search to tune the number of units in that dense layer and the dropout rate.\n",
        "\n",
        "The training accuracy is higher than the validation accuracy and is steadily increasing in the best model found by Bayesian optimization. This is a sign of overfitting. Some regularization should be considered."
      ],
      "metadata": {
        "id": "xD9S7wka2xu-"
      }
    },
    {
      "cell_type": "code",
      "source": [
        "def build_model(hp):\n",
        "    model = Sequential()\n",
        "\n",
        "    efficient_net = EfficientNetB0(\n",
        "        weights='imagenet',\n",
        "        input_shape=(224,224,3),\n",
        "        include_top=False,\n",
        "        pooling='max'\n",
        "    )\n",
        "\n",
        "    model.add(efficient_net)\n",
        "    for layer in model.layers:\n",
        "        layer.trainable = False\n",
        "\n",
        "\n",
        "    model.add(layers.Dense(hp.Choice('units', [256, 512, 1024, 2048]),\n",
        "                          activation='relu'))\n",
        "    model.add(layers.Dropout(hp.Choice('dropout',\n",
        "                            [0.0, 0.1, 0.2, 0.3, 0.4])))\n",
        "    model.add(layers.BatchNormalization())\n",
        "\n",
        "    model.add(layers.Dense(num_classes, activation='softmax'))\n",
        "    learning_rate = 0.001\n",
        "    model.compile(optimizer=Adam(learning_rate),\n",
        "                  loss=tf.keras.losses.SparseCategoricalCrossentropy(),\n",
        "                  metrics=['accuracy',\n",
        "                          tf.keras.metrics.SparseTopKCategoricalAccuracy()])\n",
        "    return model"
      ],
      "metadata": {
        "id": "KkW6wFQ23hwg"
      },
      "execution_count": 26,
      "outputs": []
    },
    {
      "cell_type": "code",
      "source": [
        "tuner = keras_tuner.GridSearch(\n",
        "    build_model,\n",
        "    objective = 'val_accuracy',\n",
        "    directory = 'drive/MyDrive/bird_tuner',\n",
        "    project_name = '1layer'\n",
        ")"
      ],
      "metadata": {
        "id": "BR9ixEkw4kHv"
      },
      "execution_count": 27,
      "outputs": []
    },
    {
      "cell_type": "code",
      "source": [
        "tuner.search(train, epochs=4, validation_data=val)\n",
        "best_model = tuner.get_best_models()[0]"
      ],
      "metadata": {
        "colab": {
          "base_uri": "https://localhost:8080/"
        },
        "id": "6XYrpLpd5PPJ",
        "outputId": "5430a2c3-5fe3-45df-81ca-c86ab519e696"
      },
      "execution_count": 28,
      "outputs": [
        {
          "output_type": "stream",
          "name": "stdout",
          "text": [
            "Trial 20 Complete [00h 05m 28s]\n",
            "val_accuracy: 0.8657253980636597\n",
            "\n",
            "Best val_accuracy So Far: 0.8861649632453918\n",
            "Total elapsed time: 01h 50m 06s\n"
          ]
        }
      ]
    },
    {
      "cell_type": "code",
      "source": [
        "tuner.oracle.get_best_trials(20)[0].hyperparameters.values"
      ],
      "metadata": {
        "colab": {
          "base_uri": "https://localhost:8080/"
        },
        "id": "NFjOYaQPS1DN",
        "outputId": "abbaf9ad-69e7-47f0-db60-f88d9c112c38"
      },
      "execution_count": 31,
      "outputs": [
        {
          "output_type": "execute_result",
          "data": {
            "text/plain": [
              "{'units': 512, 'dropout': 0.2}"
            ]
          },
          "metadata": {},
          "execution_count": 31
        }
      ]
    },
    {
      "cell_type": "code",
      "source": [
        "tuner.oracle.get_best_trials(20)[0].score"
      ],
      "metadata": {
        "colab": {
          "base_uri": "https://localhost:8080/"
        },
        "id": "ev_7FughTEzM",
        "outputId": "878736e3-0867-4cdb-d4e6-660154c84c74"
      },
      "execution_count": 32,
      "outputs": [
        {
          "output_type": "execute_result",
          "data": {
            "text/plain": [
              "0.8861649632453918"
            ]
          },
          "metadata": {},
          "execution_count": 32
        }
      ]
    },
    {
      "cell_type": "code",
      "source": [
        "tuner_results = tuner.oracle.get_best_trials(20)"
      ],
      "metadata": {
        "id": "jLmK2P98Tiof"
      },
      "execution_count": 33,
      "outputs": []
    },
    {
      "cell_type": "code",
      "source": [
        "tuner_data = [trial.hyperparameters.values for trial in tuner_results]\n",
        "for i in range(len(tuner_data)):\n",
        "    tuner_data[i]['score'] = tuner_results[i].score"
      ],
      "metadata": {
        "id": "XzDTktW1TteN"
      },
      "execution_count": 38,
      "outputs": []
    },
    {
      "cell_type": "code",
      "source": [
        "import pandas as pd\n",
        "tuner_df = pd.DataFrame(tuner_data)\n",
        "tuner_df = tuner_df.pivot(index='dropout', columns='units', values='score')\n",
        "tuner_df.head()"
      ],
      "metadata": {
        "colab": {
          "base_uri": "https://localhost:8080/",
          "height": 238
        },
        "id": "7AExVKmfUiS1",
        "outputId": "e7e48ad5-1d38-4b68-9337-e1083fa9e9e5"
      },
      "execution_count": 47,
      "outputs": [
        {
          "output_type": "execute_result",
          "data": {
            "text/plain": [
              "units        256       512       1024      2048\n",
              "dropout                                        \n",
              "0.0      0.875886  0.876536  0.866493  0.868797\n",
              "0.1      0.877186  0.882798  0.874882  0.879549\n",
              "0.2      0.872105  0.886165  0.881853  0.881793\n",
              "0.3      0.876122  0.879017  0.877363  0.874705\n",
              "0.4      0.873700  0.870392  0.880907  0.865725"
            ],
            "text/html": [
              "\n",
              "  <div id=\"df-c8e67710-9805-46e5-ba3e-48cbbd737103\" class=\"colab-df-container\">\n",
              "    <div>\n",
              "<style scoped>\n",
              "    .dataframe tbody tr th:only-of-type {\n",
              "        vertical-align: middle;\n",
              "    }\n",
              "\n",
              "    .dataframe tbody tr th {\n",
              "        vertical-align: top;\n",
              "    }\n",
              "\n",
              "    .dataframe thead th {\n",
              "        text-align: right;\n",
              "    }\n",
              "</style>\n",
              "<table border=\"1\" class=\"dataframe\">\n",
              "  <thead>\n",
              "    <tr style=\"text-align: right;\">\n",
              "      <th>units</th>\n",
              "      <th>256</th>\n",
              "      <th>512</th>\n",
              "      <th>1024</th>\n",
              "      <th>2048</th>\n",
              "    </tr>\n",
              "    <tr>\n",
              "      <th>dropout</th>\n",
              "      <th></th>\n",
              "      <th></th>\n",
              "      <th></th>\n",
              "      <th></th>\n",
              "    </tr>\n",
              "  </thead>\n",
              "  <tbody>\n",
              "    <tr>\n",
              "      <th>0.0</th>\n",
              "      <td>0.875886</td>\n",
              "      <td>0.876536</td>\n",
              "      <td>0.866493</td>\n",
              "      <td>0.868797</td>\n",
              "    </tr>\n",
              "    <tr>\n",
              "      <th>0.1</th>\n",
              "      <td>0.877186</td>\n",
              "      <td>0.882798</td>\n",
              "      <td>0.874882</td>\n",
              "      <td>0.879549</td>\n",
              "    </tr>\n",
              "    <tr>\n",
              "      <th>0.2</th>\n",
              "      <td>0.872105</td>\n",
              "      <td>0.886165</td>\n",
              "      <td>0.881853</td>\n",
              "      <td>0.881793</td>\n",
              "    </tr>\n",
              "    <tr>\n",
              "      <th>0.3</th>\n",
              "      <td>0.876122</td>\n",
              "      <td>0.879017</td>\n",
              "      <td>0.877363</td>\n",
              "      <td>0.874705</td>\n",
              "    </tr>\n",
              "    <tr>\n",
              "      <th>0.4</th>\n",
              "      <td>0.873700</td>\n",
              "      <td>0.870392</td>\n",
              "      <td>0.880907</td>\n",
              "      <td>0.865725</td>\n",
              "    </tr>\n",
              "  </tbody>\n",
              "</table>\n",
              "</div>\n",
              "    <div class=\"colab-df-buttons\">\n",
              "\n",
              "  <div class=\"colab-df-container\">\n",
              "    <button class=\"colab-df-convert\" onclick=\"convertToInteractive('df-c8e67710-9805-46e5-ba3e-48cbbd737103')\"\n",
              "            title=\"Convert this dataframe to an interactive table.\"\n",
              "            style=\"display:none;\">\n",
              "\n",
              "  <svg xmlns=\"http://www.w3.org/2000/svg\" height=\"24px\" viewBox=\"0 -960 960 960\">\n",
              "    <path d=\"M120-120v-720h720v720H120Zm60-500h600v-160H180v160Zm220 220h160v-160H400v160Zm0 220h160v-160H400v160ZM180-400h160v-160H180v160Zm440 0h160v-160H620v160ZM180-180h160v-160H180v160Zm440 0h160v-160H620v160Z\"/>\n",
              "  </svg>\n",
              "    </button>\n",
              "\n",
              "  <style>\n",
              "    .colab-df-container {\n",
              "      display:flex;\n",
              "      gap: 12px;\n",
              "    }\n",
              "\n",
              "    .colab-df-convert {\n",
              "      background-color: #E8F0FE;\n",
              "      border: none;\n",
              "      border-radius: 50%;\n",
              "      cursor: pointer;\n",
              "      display: none;\n",
              "      fill: #1967D2;\n",
              "      height: 32px;\n",
              "      padding: 0 0 0 0;\n",
              "      width: 32px;\n",
              "    }\n",
              "\n",
              "    .colab-df-convert:hover {\n",
              "      background-color: #E2EBFA;\n",
              "      box-shadow: 0px 1px 2px rgba(60, 64, 67, 0.3), 0px 1px 3px 1px rgba(60, 64, 67, 0.15);\n",
              "      fill: #174EA6;\n",
              "    }\n",
              "\n",
              "    .colab-df-buttons div {\n",
              "      margin-bottom: 4px;\n",
              "    }\n",
              "\n",
              "    [theme=dark] .colab-df-convert {\n",
              "      background-color: #3B4455;\n",
              "      fill: #D2E3FC;\n",
              "    }\n",
              "\n",
              "    [theme=dark] .colab-df-convert:hover {\n",
              "      background-color: #434B5C;\n",
              "      box-shadow: 0px 1px 3px 1px rgba(0, 0, 0, 0.15);\n",
              "      filter: drop-shadow(0px 1px 2px rgba(0, 0, 0, 0.3));\n",
              "      fill: #FFFFFF;\n",
              "    }\n",
              "  </style>\n",
              "\n",
              "    <script>\n",
              "      const buttonEl =\n",
              "        document.querySelector('#df-c8e67710-9805-46e5-ba3e-48cbbd737103 button.colab-df-convert');\n",
              "      buttonEl.style.display =\n",
              "        google.colab.kernel.accessAllowed ? 'block' : 'none';\n",
              "\n",
              "      async function convertToInteractive(key) {\n",
              "        const element = document.querySelector('#df-c8e67710-9805-46e5-ba3e-48cbbd737103');\n",
              "        const dataTable =\n",
              "          await google.colab.kernel.invokeFunction('convertToInteractive',\n",
              "                                                    [key], {});\n",
              "        if (!dataTable) return;\n",
              "\n",
              "        const docLinkHtml = 'Like what you see? Visit the ' +\n",
              "          '<a target=\"_blank\" href=https://colab.research.google.com/notebooks/data_table.ipynb>data table notebook</a>'\n",
              "          + ' to learn more about interactive tables.';\n",
              "        element.innerHTML = '';\n",
              "        dataTable['output_type'] = 'display_data';\n",
              "        await google.colab.output.renderOutput(dataTable, element);\n",
              "        const docLink = document.createElement('div');\n",
              "        docLink.innerHTML = docLinkHtml;\n",
              "        element.appendChild(docLink);\n",
              "      }\n",
              "    </script>\n",
              "  </div>\n",
              "\n",
              "\n",
              "<div id=\"df-a2c8e691-31a3-43cc-a6da-139eca7b391f\">\n",
              "  <button class=\"colab-df-quickchart\" onclick=\"quickchart('df-a2c8e691-31a3-43cc-a6da-139eca7b391f')\"\n",
              "            title=\"Suggest charts\"\n",
              "            style=\"display:none;\">\n",
              "\n",
              "<svg xmlns=\"http://www.w3.org/2000/svg\" height=\"24px\"viewBox=\"0 0 24 24\"\n",
              "     width=\"24px\">\n",
              "    <g>\n",
              "        <path d=\"M19 3H5c-1.1 0-2 .9-2 2v14c0 1.1.9 2 2 2h14c1.1 0 2-.9 2-2V5c0-1.1-.9-2-2-2zM9 17H7v-7h2v7zm4 0h-2V7h2v10zm4 0h-2v-4h2v4z\"/>\n",
              "    </g>\n",
              "</svg>\n",
              "  </button>\n",
              "\n",
              "<style>\n",
              "  .colab-df-quickchart {\n",
              "      --bg-color: #E8F0FE;\n",
              "      --fill-color: #1967D2;\n",
              "      --hover-bg-color: #E2EBFA;\n",
              "      --hover-fill-color: #174EA6;\n",
              "      --disabled-fill-color: #AAA;\n",
              "      --disabled-bg-color: #DDD;\n",
              "  }\n",
              "\n",
              "  [theme=dark] .colab-df-quickchart {\n",
              "      --bg-color: #3B4455;\n",
              "      --fill-color: #D2E3FC;\n",
              "      --hover-bg-color: #434B5C;\n",
              "      --hover-fill-color: #FFFFFF;\n",
              "      --disabled-bg-color: #3B4455;\n",
              "      --disabled-fill-color: #666;\n",
              "  }\n",
              "\n",
              "  .colab-df-quickchart {\n",
              "    background-color: var(--bg-color);\n",
              "    border: none;\n",
              "    border-radius: 50%;\n",
              "    cursor: pointer;\n",
              "    display: none;\n",
              "    fill: var(--fill-color);\n",
              "    height: 32px;\n",
              "    padding: 0;\n",
              "    width: 32px;\n",
              "  }\n",
              "\n",
              "  .colab-df-quickchart:hover {\n",
              "    background-color: var(--hover-bg-color);\n",
              "    box-shadow: 0 1px 2px rgba(60, 64, 67, 0.3), 0 1px 3px 1px rgba(60, 64, 67, 0.15);\n",
              "    fill: var(--button-hover-fill-color);\n",
              "  }\n",
              "\n",
              "  .colab-df-quickchart-complete:disabled,\n",
              "  .colab-df-quickchart-complete:disabled:hover {\n",
              "    background-color: var(--disabled-bg-color);\n",
              "    fill: var(--disabled-fill-color);\n",
              "    box-shadow: none;\n",
              "  }\n",
              "\n",
              "  .colab-df-spinner {\n",
              "    border: 2px solid var(--fill-color);\n",
              "    border-color: transparent;\n",
              "    border-bottom-color: var(--fill-color);\n",
              "    animation:\n",
              "      spin 1s steps(1) infinite;\n",
              "  }\n",
              "\n",
              "  @keyframes spin {\n",
              "    0% {\n",
              "      border-color: transparent;\n",
              "      border-bottom-color: var(--fill-color);\n",
              "      border-left-color: var(--fill-color);\n",
              "    }\n",
              "    20% {\n",
              "      border-color: transparent;\n",
              "      border-left-color: var(--fill-color);\n",
              "      border-top-color: var(--fill-color);\n",
              "    }\n",
              "    30% {\n",
              "      border-color: transparent;\n",
              "      border-left-color: var(--fill-color);\n",
              "      border-top-color: var(--fill-color);\n",
              "      border-right-color: var(--fill-color);\n",
              "    }\n",
              "    40% {\n",
              "      border-color: transparent;\n",
              "      border-right-color: var(--fill-color);\n",
              "      border-top-color: var(--fill-color);\n",
              "    }\n",
              "    60% {\n",
              "      border-color: transparent;\n",
              "      border-right-color: var(--fill-color);\n",
              "    }\n",
              "    80% {\n",
              "      border-color: transparent;\n",
              "      border-right-color: var(--fill-color);\n",
              "      border-bottom-color: var(--fill-color);\n",
              "    }\n",
              "    90% {\n",
              "      border-color: transparent;\n",
              "      border-bottom-color: var(--fill-color);\n",
              "    }\n",
              "  }\n",
              "</style>\n",
              "\n",
              "  <script>\n",
              "    async function quickchart(key) {\n",
              "      const quickchartButtonEl =\n",
              "        document.querySelector('#' + key + ' button');\n",
              "      quickchartButtonEl.disabled = true;  // To prevent multiple clicks.\n",
              "      quickchartButtonEl.classList.add('colab-df-spinner');\n",
              "      try {\n",
              "        const charts = await google.colab.kernel.invokeFunction(\n",
              "            'suggestCharts', [key], {});\n",
              "      } catch (error) {\n",
              "        console.error('Error during call to suggestCharts:', error);\n",
              "      }\n",
              "      quickchartButtonEl.classList.remove('colab-df-spinner');\n",
              "      quickchartButtonEl.classList.add('colab-df-quickchart-complete');\n",
              "    }\n",
              "    (() => {\n",
              "      let quickchartButtonEl =\n",
              "        document.querySelector('#df-a2c8e691-31a3-43cc-a6da-139eca7b391f button');\n",
              "      quickchartButtonEl.style.display =\n",
              "        google.colab.kernel.accessAllowed ? 'block' : 'none';\n",
              "    })();\n",
              "  </script>\n",
              "</div>\n",
              "\n",
              "    </div>\n",
              "  </div>\n"
            ]
          },
          "metadata": {},
          "execution_count": 47
        }
      ]
    },
    {
      "cell_type": "code",
      "source": [
        "# visualize the validation accuracy of each model from the grid search\n",
        "import seaborn as sns\n",
        "sns.heatmap(tuner_df, annot=True, cmap='coolwarm', fmt='.4f')"
      ],
      "metadata": {
        "colab": {
          "base_uri": "https://localhost:8080/",
          "height": 466
        },
        "id": "jc7yhHDDUs3i",
        "outputId": "c5ad5cc7-141e-4bf1-9d2e-420d066b5730"
      },
      "execution_count": 54,
      "outputs": [
        {
          "output_type": "execute_result",
          "data": {
            "text/plain": [
              "<Axes: xlabel='units', ylabel='dropout'>"
            ]
          },
          "metadata": {},
          "execution_count": 54
        },
        {
          "output_type": "display_data",
          "data": {
            "text/plain": [
              "<Figure size 640x480 with 2 Axes>"
            ],
            "image/png": "[encoded data removed]"
          },
          "metadata": {}
        }
      ]
    },
    {
      "cell_type": "markdown",
      "source": [
        "# Regularization\n",
        "\n",
        "As mentioned before, there is evidence of overfitting so I'll attempt to combat this with kernel regularization in the dense layer. I'll train the model with the best validation accuracy from the previous tuning but I'll add in a kernel regularization in the dense layer with parameter $\\lambda$ being different orders of magnitude."
      ],
      "metadata": {
        "id": "0AgZYoobXf2c"
      }
    },
    {
      "cell_type": "code",
      "source": [
        "from tensorflow.keras.regularizers import l2\n",
        "\n",
        "def reg_model(lam):\n",
        "    model = Sequential()\n",
        "\n",
        "    efficient_net = EfficientNetB0(\n",
        "        weights='imagenet',\n",
        "        input_shape=(224,224,3),\n",
        "        include_top=False,\n",
        "        pooling='max'\n",
        "    )\n",
        "\n",
        "    model.add(efficient_net)\n",
        "    for layer in model.layers:\n",
        "        layer.trainable = False\n",
        "\n",
        "\n",
        "    model.add(layers.Dense(512, activation='relu',\n",
        "                          kernel_regularizer=l2(lam)))\n",
        "    model.add(layers.Dropout(0.2))\n",
        "    model.add(layers.BatchNormalization())\n",
        "\n",
        "    model.add(layers.Dense(num_classes, activation='softmax'))\n",
        "    learning_rate = 0.001\n",
        "    model.compile(optimizer=Adam(learning_rate),\n",
        "                  loss=tf.keras.losses.SparseCategoricalCrossentropy(),\n",
        "                  metrics=['accuracy',\n",
        "                          tf.keras.metrics.SparseTopKCategoricalAccuracy()])\n",
        "    return model"
      ],
      "metadata": {
        "id": "KpdlU8P2XSIM"
      },
      "execution_count": 11,
      "outputs": []
    },
    {
      "cell_type": "code",
      "source": [
        "for i in range(3):\n",
        "    print(f'Training model with lambda = {10**(-i-2)}')\n",
        "    reg_model(10**(-i-2)).fit(train, epochs=4, validation_data=val)"
      ],
      "metadata": {
        "colab": {
          "base_uri": "https://localhost:8080/"
        },
        "id": "jJUyLufX7a5_",
        "outputId": "6db9db5e-441f-4eeb-8d4a-dfa13dba40e6"
      },
      "execution_count": 13,
      "outputs": [
        {
          "output_type": "stream",
          "name": "stdout",
          "text": [
            "Training model with lambda = 0.01\n",
            "Epoch 1/4\n",
            "1851/1851 [==============================] - 104s 48ms/step - loss: 3.3095 - accuracy: 0.5781 - sparse_top_k_categorical_accuracy: 0.8091 - val_loss: 2.5404 - val_accuracy: 0.5560 - val_sparse_top_k_categorical_accuracy: 0.8181\n",
            "Epoch 2/4\n",
            "1851/1851 [==============================] - 86s 46ms/step - loss: 2.0085 - accuracy: 0.6699 - sparse_top_k_categorical_accuracy: 0.8890 - val_loss: 1.7439 - val_accuracy: 0.7306 - val_sparse_top_k_categorical_accuracy: 0.9200\n",
            "Epoch 3/4\n",
            "1851/1851 [==============================] - 86s 46ms/step - loss: 1.9974 - accuracy: 0.6451 - sparse_top_k_categorical_accuracy: 0.8768 - val_loss: 1.5298 - val_accuracy: 0.7625 - val_sparse_top_k_categorical_accuracy: 0.9305\n",
            "Epoch 4/4\n",
            "1851/1851 [==============================] - 82s 44ms/step - loss: 1.9537 - accuracy: 0.6398 - sparse_top_k_categorical_accuracy: 0.8724 - val_loss: 1.5852 - val_accuracy: 0.7332 - val_sparse_top_k_categorical_accuracy: 0.9151\n",
            "Training model with lambda = 0.001\n",
            "Epoch 1/4\n",
            "1851/1851 [==============================] - 91s 45ms/step - loss: 2.1840 - accuracy: 0.6704 - sparse_top_k_categorical_accuracy: 0.8529 - val_loss: 1.5781 - val_accuracy: 0.7215 - val_sparse_top_k_categorical_accuracy: 0.9084\n",
            "Epoch 2/4\n",
            "1851/1851 [==============================] - 84s 45ms/step - loss: 1.2626 - accuracy: 0.7860 - sparse_top_k_categorical_accuracy: 0.9418 - val_loss: 1.2077 - val_accuracy: 0.7879 - val_sparse_top_k_categorical_accuracy: 0.9389\n",
            "Epoch 3/4\n",
            "1851/1851 [==============================] - 84s 46ms/step - loss: 1.2023 - accuracy: 0.7793 - sparse_top_k_categorical_accuracy: 0.9408 - val_loss: 1.1172 - val_accuracy: 0.8013 - val_sparse_top_k_categorical_accuracy: 0.9427\n",
            "Epoch 4/4\n",
            "1851/1851 [==============================] - 85s 46ms/step - loss: 1.2028 - accuracy: 0.7709 - sparse_top_k_categorical_accuracy: 0.9382 - val_loss: 1.6161 - val_accuracy: 0.6760 - val_sparse_top_k_categorical_accuracy: 0.8843\n",
            "Training model with lambda = 0.0001\n",
            "Epoch 1/4\n",
            "1851/1851 [==============================] - 97s 49ms/step - loss: 1.6807 - accuracy: 0.6859 - sparse_top_k_categorical_accuracy: 0.8609 - val_loss: 0.7593 - val_accuracy: 0.8496 - val_sparse_top_k_categorical_accuracy: 0.9610\n",
            "Epoch 2/4\n",
            "1851/1851 [==============================] - 84s 45ms/step - loss: 0.8167 - accuracy: 0.8281 - sparse_top_k_categorical_accuracy: 0.9558 - val_loss: 0.6745 - val_accuracy: 0.8598 - val_sparse_top_k_categorical_accuracy: 0.9667\n",
            "Epoch 3/4\n",
            "1851/1851 [==============================] - 84s 45ms/step - loss: 0.7675 - accuracy: 0.8337 - sparse_top_k_categorical_accuracy: 0.9614 - val_loss: 0.9171 - val_accuracy: 0.8130 - val_sparse_top_k_categorical_accuracy: 0.9484\n",
            "Epoch 4/4\n",
            "1851/1851 [==============================] - 84s 45ms/step - loss: 0.7475 - accuracy: 0.8370 - sparse_top_k_categorical_accuracy: 0.9626 - val_loss: 0.6710 - val_accuracy: 0.8665 - val_sparse_top_k_categorical_accuracy: 0.9674\n"
          ]
        }
      ]
    },
    {
      "cell_type": "markdown",
      "source": [
        "# Training a second model\n",
        "\n",
        "It looks like the l2 kernel regularization with $\\lambda = 0.0001$ is a promising model. I'll further train this model."
      ],
      "metadata": {
        "id": "L1MQG4WXAqg0"
      }
    },
    {
      "cell_type": "code",
      "source": [
        "model = reg_model(10**(-4))\n",
        "callback = tf.keras.callbacks.EarlyStopping(monitor='loss', patience=3)\n",
        "hist = model.fit(train, epochs=20, validation_data = val, callbacks = [callback])"
      ],
      "metadata": {
        "colab": {
          "base_uri": "https://localhost:8080/"
        },
        "id": "W6BxI9xBBI8b",
        "outputId": "3eb5cdea-2d10-4d82-f1db-ed9b0af57cd9"
      },
      "execution_count": 15,
      "outputs": [
        {
          "output_type": "stream",
          "name": "stdout",
          "text": [
            "Epoch 1/20\n",
            "1851/1851 [==============================] - 96s 48ms/step - loss: 1.6436 - accuracy: 0.6932 - sparse_top_k_categorical_accuracy: 0.8634 - val_loss: 0.8701 - val_accuracy: 0.8129 - val_sparse_top_k_categorical_accuracy: 0.9509\n",
            "Epoch 2/20\n",
            "1851/1851 [==============================] - 84s 45ms/step - loss: 0.8277 - accuracy: 0.8248 - sparse_top_k_categorical_accuracy: 0.9552 - val_loss: 0.7422 - val_accuracy: 0.8451 - val_sparse_top_k_categorical_accuracy: 0.9631\n",
            "Epoch 3/20\n",
            "1851/1851 [==============================] - 88s 48ms/step - loss: 0.7515 - accuracy: 0.8380 - sparse_top_k_categorical_accuracy: 0.9628 - val_loss: 0.6571 - val_accuracy: 0.8686 - val_sparse_top_k_categorical_accuracy: 0.9681\n",
            "Epoch 4/20\n",
            "1851/1851 [==============================] - 83s 45ms/step - loss: 0.7029 - accuracy: 0.8475 - sparse_top_k_categorical_accuracy: 0.9668 - val_loss: 0.6882 - val_accuracy: 0.8544 - val_sparse_top_k_categorical_accuracy: 0.9659\n",
            "Epoch 5/20\n",
            "1851/1851 [==============================] - 81s 44ms/step - loss: 0.6897 - accuracy: 0.8492 - sparse_top_k_categorical_accuracy: 0.9689 - val_loss: 0.6522 - val_accuracy: 0.8716 - val_sparse_top_k_categorical_accuracy: 0.9685\n",
            "Epoch 6/20\n",
            "1851/1851 [==============================] - 81s 44ms/step - loss: 0.6805 - accuracy: 0.8512 - sparse_top_k_categorical_accuracy: 0.9695 - val_loss: 0.6060 - val_accuracy: 0.8794 - val_sparse_top_k_categorical_accuracy: 0.9726\n",
            "Epoch 7/20\n",
            "1851/1851 [==============================] - 80s 43ms/step - loss: 0.6868 - accuracy: 0.8480 - sparse_top_k_categorical_accuracy: 0.9698 - val_loss: 0.5969 - val_accuracy: 0.8852 - val_sparse_top_k_categorical_accuracy: 0.9729\n",
            "Epoch 8/20\n",
            "1851/1851 [==============================] - 81s 44ms/step - loss: 0.6624 - accuracy: 0.8556 - sparse_top_k_categorical_accuracy: 0.9714 - val_loss: 0.7071 - val_accuracy: 0.8591 - val_sparse_top_k_categorical_accuracy: 0.9636\n",
            "Epoch 9/20\n",
            "1851/1851 [==============================] - 81s 44ms/step - loss: 0.6710 - accuracy: 0.8522 - sparse_top_k_categorical_accuracy: 0.9712 - val_loss: 0.6142 - val_accuracy: 0.8817 - val_sparse_top_k_categorical_accuracy: 0.9730\n",
            "Epoch 10/20\n",
            "1851/1851 [==============================] - 81s 44ms/step - loss: 0.6579 - accuracy: 0.8543 - sparse_top_k_categorical_accuracy: 0.9726 - val_loss: 0.6038 - val_accuracy: 0.8804 - val_sparse_top_k_categorical_accuracy: 0.9724\n",
            "Epoch 11/20\n",
            "1851/1851 [==============================] - 81s 44ms/step - loss: 0.6646 - accuracy: 0.8516 - sparse_top_k_categorical_accuracy: 0.9732 - val_loss: 0.5949 - val_accuracy: 0.8852 - val_sparse_top_k_categorical_accuracy: 0.9725\n",
            "Epoch 12/20\n",
            "1851/1851 [==============================] - 81s 44ms/step - loss: 0.6660 - accuracy: 0.8533 - sparse_top_k_categorical_accuracy: 0.9723 - val_loss: 0.5943 - val_accuracy: 0.8849 - val_sparse_top_k_categorical_accuracy: 0.9721\n",
            "Epoch 13/20\n",
            "1851/1851 [==============================] - 81s 43ms/step - loss: 0.6575 - accuracy: 0.8534 - sparse_top_k_categorical_accuracy: 0.9728 - val_loss: 0.6038 - val_accuracy: 0.8823 - val_sparse_top_k_categorical_accuracy: 0.9720\n",
            "Epoch 14/20\n",
            "1851/1851 [==============================] - 85s 46ms/step - loss: 0.6653 - accuracy: 0.8508 - sparse_top_k_categorical_accuracy: 0.9724 - val_loss: 0.5788 - val_accuracy: 0.8853 - val_sparse_top_k_categorical_accuracy: 0.9732\n",
            "Epoch 15/20\n",
            "1851/1851 [==============================] - 80s 43ms/step - loss: 0.6795 - accuracy: 0.8473 - sparse_top_k_categorical_accuracy: 0.9706 - val_loss: 0.5829 - val_accuracy: 0.8863 - val_sparse_top_k_categorical_accuracy: 0.9717\n",
            "Epoch 16/20\n",
            "1851/1851 [==============================] - 81s 44ms/step - loss: 0.6647 - accuracy: 0.8485 - sparse_top_k_categorical_accuracy: 0.9716 - val_loss: 0.5717 - val_accuracy: 0.8917 - val_sparse_top_k_categorical_accuracy: 0.9742\n"
          ]
        }
      ]
    },
    {
      "cell_type": "markdown",
      "source": [
        "# Train a third model\n",
        "\n",
        "From the hyperparameter search for $\\lambda$ in the kernel regularization, it does not seem like regularization improves the performance of the model. Therefore, I want to further train the model without any kernel regularization."
      ],
      "metadata": {
        "id": "yQQQaDqCQ5OD"
      }
    },
    {
      "cell_type": "code",
      "source": [
        "model = Sequential()\n",
        "\n",
        "efficient_net = EfficientNetB0(\n",
        "    weights='imagenet',\n",
        "    input_shape=(224,224,3),\n",
        "    include_top=False,\n",
        "    pooling='max'\n",
        ")\n",
        "\n",
        "model.add(efficient_net)\n",
        "for layer in model.layers:\n",
        "    layer.trainable = False\n",
        "\n",
        "\n",
        "model.add(layers.Dense(512, activation='relu'))\n",
        "model.add(layers.Dropout(0.2))\n",
        "model.add(layers.BatchNormalization())\n",
        "\n",
        "model.add(layers.Dense(num_classes, activation='softmax'))\n",
        "learning_rate = 0.001\n",
        "model.compile(optimizer=Adam(learning_rate),\n",
        "              loss=tf.keras.losses.SparseCategoricalCrossentropy(),\n",
        "              metrics=['accuracy',\n",
        "                      tf.keras.metrics.SparseTopKCategoricalAccuracy()])"
      ],
      "metadata": {
        "id": "ubu6zgRsIhpE"
      },
      "execution_count": 18,
      "outputs": []
    },
    {
      "cell_type": "code",
      "source": [
        "callback = tf.keras.callbacks.EarlyStopping(monitor='loss', patience=3)\n",
        "hist = model.fit(train, epochs=20, validation_data = val, callbacks = [callback])"
      ],
      "metadata": {
        "colab": {
          "base_uri": "https://localhost:8080/"
        },
        "id": "3a1PmvTtIlbY",
        "outputId": "6af122be-e0f2-4f62-e297-936869ca2361"
      },
      "execution_count": 19,
      "outputs": [
        {
          "output_type": "stream",
          "name": "stdout",
          "text": [
            "Epoch 1/20\n",
            "1851/1851 [==============================] - 90s 45ms/step - loss: 1.5541 - accuracy: 0.6923 - sparse_top_k_categorical_accuracy: 0.8640 - val_loss: 0.6578 - val_accuracy: 0.8475 - val_sparse_top_k_categorical_accuracy: 0.9597\n",
            "Epoch 2/20\n",
            "1851/1851 [==============================] - 82s 44ms/step - loss: 0.6944 - accuracy: 0.8297 - sparse_top_k_categorical_accuracy: 0.9579 - val_loss: 0.7348 - val_accuracy: 0.8238 - val_sparse_top_k_categorical_accuracy: 0.9491\n",
            "Epoch 3/20\n",
            "1851/1851 [==============================] - 81s 44ms/step - loss: 0.5990 - accuracy: 0.8450 - sparse_top_k_categorical_accuracy: 0.9645 - val_loss: 0.4995 - val_accuracy: 0.8763 - val_sparse_top_k_categorical_accuracy: 0.9709\n",
            "Epoch 4/20\n",
            "1851/1851 [==============================] - 81s 44ms/step - loss: 0.5262 - accuracy: 0.8604 - sparse_top_k_categorical_accuracy: 0.9708 - val_loss: 0.4716 - val_accuracy: 0.8816 - val_sparse_top_k_categorical_accuracy: 0.9709\n",
            "Epoch 5/20\n",
            "1851/1851 [==============================] - 86s 46ms/step - loss: 0.5072 - accuracy: 0.8615 - sparse_top_k_categorical_accuracy: 0.9728 - val_loss: 0.4289 - val_accuracy: 0.8903 - val_sparse_top_k_categorical_accuracy: 0.9747\n",
            "Epoch 6/20\n",
            "1851/1851 [==============================] - 81s 44ms/step - loss: 0.4723 - accuracy: 0.8696 - sparse_top_k_categorical_accuracy: 0.9756 - val_loss: 0.4480 - val_accuracy: 0.8880 - val_sparse_top_k_categorical_accuracy: 0.9729\n",
            "Epoch 7/20\n",
            "1851/1851 [==============================] - 81s 44ms/step - loss: 0.4599 - accuracy: 0.8722 - sparse_top_k_categorical_accuracy: 0.9767 - val_loss: 0.4396 - val_accuracy: 0.8902 - val_sparse_top_k_categorical_accuracy: 0.9739\n",
            "Epoch 8/20\n",
            "1851/1851 [==============================] - 81s 44ms/step - loss: 0.4340 - accuracy: 0.8769 - sparse_top_k_categorical_accuracy: 0.9789 - val_loss: 0.4605 - val_accuracy: 0.8873 - val_sparse_top_k_categorical_accuracy: 0.9718\n",
            "Epoch 9/20\n",
            "1851/1851 [==============================] - 81s 44ms/step - loss: 0.4212 - accuracy: 0.8808 - sparse_top_k_categorical_accuracy: 0.9798 - val_loss: 0.4369 - val_accuracy: 0.8925 - val_sparse_top_k_categorical_accuracy: 0.9731\n",
            "Epoch 10/20\n",
            "1851/1851 [==============================] - 81s 44ms/step - loss: 0.4051 - accuracy: 0.8844 - sparse_top_k_categorical_accuracy: 0.9813 - val_loss: 0.4444 - val_accuracy: 0.8935 - val_sparse_top_k_categorical_accuracy: 0.9743\n",
            "Epoch 11/20\n",
            "1851/1851 [==============================] - 81s 44ms/step - loss: 0.4119 - accuracy: 0.8816 - sparse_top_k_categorical_accuracy: 0.9806 - val_loss: 0.4103 - val_accuracy: 0.8977 - val_sparse_top_k_categorical_accuracy: 0.9763\n",
            "Epoch 12/20\n",
            "1851/1851 [==============================] - 81s 44ms/step - loss: 0.3885 - accuracy: 0.8877 - sparse_top_k_categorical_accuracy: 0.9819 - val_loss: 0.4084 - val_accuracy: 0.8985 - val_sparse_top_k_categorical_accuracy: 0.9762\n",
            "Epoch 13/20\n",
            "1851/1851 [==============================] - 81s 44ms/step - loss: 0.3900 - accuracy: 0.8854 - sparse_top_k_categorical_accuracy: 0.9836 - val_loss: 0.4357 - val_accuracy: 0.8964 - val_sparse_top_k_categorical_accuracy: 0.9751\n",
            "Epoch 14/20\n",
            "1851/1851 [==============================] - 81s 44ms/step - loss: 0.3857 - accuracy: 0.8876 - sparse_top_k_categorical_accuracy: 0.9834 - val_loss: 0.3996 - val_accuracy: 0.9021 - val_sparse_top_k_categorical_accuracy: 0.9767\n",
            "Epoch 15/20\n",
            "1851/1851 [==============================] - 81s 44ms/step - loss: 0.3727 - accuracy: 0.8895 - sparse_top_k_categorical_accuracy: 0.9851 - val_loss: 0.4179 - val_accuracy: 0.8937 - val_sparse_top_k_categorical_accuracy: 0.9766\n",
            "Epoch 16/20\n",
            "1851/1851 [==============================] - 82s 44ms/step - loss: 0.3754 - accuracy: 0.8895 - sparse_top_k_categorical_accuracy: 0.9847 - val_loss: 0.4131 - val_accuracy: 0.9008 - val_sparse_top_k_categorical_accuracy: 0.9773\n",
            "Epoch 17/20\n",
            "1851/1851 [==============================] - 82s 44ms/step - loss: 0.3592 - accuracy: 0.8951 - sparse_top_k_categorical_accuracy: 0.9849 - val_loss: 0.4165 - val_accuracy: 0.9014 - val_sparse_top_k_categorical_accuracy: 0.9776\n",
            "Epoch 18/20\n",
            "1851/1851 [==============================] - 82s 44ms/step - loss: 0.3473 - accuracy: 0.8954 - sparse_top_k_categorical_accuracy: 0.9862 - val_loss: 0.4296 - val_accuracy: 0.8972 - val_sparse_top_k_categorical_accuracy: 0.9750\n",
            "Epoch 19/20\n",
            "1851/1851 [==============================] - 81s 44ms/step - loss: 0.3388 - accuracy: 0.8996 - sparse_top_k_categorical_accuracy: 0.9869 - val_loss: 0.4183 - val_accuracy: 0.8999 - val_sparse_top_k_categorical_accuracy: 0.9760\n",
            "Epoch 20/20\n",
            "1851/1851 [==============================] - 82s 44ms/step - loss: 0.3271 - accuracy: 0.9020 - sparse_top_k_categorical_accuracy: 0.9877 - val_loss: 0.4295 - val_accuracy: 0.8982 - val_sparse_top_k_categorical_accuracy: 0.9750\n"
          ]
        }
      ]
    },
    {
      "cell_type": "code",
      "source": [
        "model.save('bird_classifier.h5')"
      ],
      "metadata": {
        "colab": {
          "base_uri": "https://localhost:8080/"
        },
        "id": "kKQWftquQAOi",
        "outputId": "dfe02d75-dd02-4039-c3f2-a4cc7966ef43"
      },
      "execution_count": 21,
      "outputs": [
        {
          "output_type": "stream",
          "name": "stderr",
          "text": [
            "/usr/local/lib/python3.10/dist-packages/keras/src/engine/training.py:3079: UserWarning: You are saving your model as an HDF5 file via `model.save()`. This file format is considered legacy. We recommend using instead the native Keras format, e.g. `model.save('my_model.keras')`.\n",
            "  saving_api.save_model(\n"
          ]
        }
      ]
    },
    {
      "cell_type": "code",
      "source": [
        "plt.plot(hist.history['accuracy'], label='Training Accuracy')\n",
        "plt.plot(hist.history['val_accuracy'], label='Validation Accuracy')\n",
        "plt.xlabel('Epoch')\n",
        "plt.ylabel('Accuracy')\n",
        "plt.legend()\n",
        "plt.show()"
      ],
      "metadata": {
        "colab": {
          "base_uri": "https://localhost:8080/",
          "height": 449
        },
        "id": "fchzNwMRXVr4",
        "outputId": "124d0bcb-b240-4f0a-adb6-f6b268d4ae99"
      },
      "execution_count": 63,
      "outputs": [
        {
          "output_type": "display_data",
          "data": {
            "text/plain": [
              "<Figure size 640x480 with 1 Axes>"
            ],
            "image/png": "[encoded data removed]"
          },
          "metadata": {}
        }
      ]
    },
    {
      "cell_type": "markdown",
      "metadata": {
        "id": "5-SeLNy-l8Ih"
      },
      "source": [
        "# Evaluate third model on the test set\n",
        "\n",
        "Since the validation accuracy is the best for the third model, I want to evaluate it by having it make predictions on the test set."
      ]
    },
    {
      "cell_type": "code",
      "source": [
        "# load model\n",
        "model = tf.keras.models.load_model(\"bird_classifier.h5\")"
      ],
      "metadata": {
        "id": "HjCDyDCVE9VQ"
      },
      "execution_count": null,
      "outputs": []
    },
    {
      "cell_type": "code",
      "source": [
        "model.evaluate(test)"
      ],
      "metadata": {
        "id": "x1I5aL4Zl2M_",
        "colab": {
          "base_uri": "https://localhost:8080/"
        },
        "outputId": "29310452-6e8d-4216-e42f-5b09fdb6315e"
      },
      "execution_count": 64,
      "outputs": [
        {
          "output_type": "stream",
          "name": "stdout",
          "text": [
            "265/265 [==============================] - 20s 29ms/step - loss: 0.4241 - accuracy: 0.8973 - sparse_top_k_categorical_accuracy: 0.9745\n"
          ]
        },
        {
          "output_type": "execute_result",
          "data": {
            "text/plain": [
              "[0.4240989685058594, 0.8973451256752014, 0.9745132923126221]"
            ]
          },
          "metadata": {},
          "execution_count": 64
        }
      ]
    },
    {
      "cell_type": "markdown",
      "source": [
        "This model gives a test accuracy of 89.73% and a top 5 accuracy of 97.45%."
      ],
      "metadata": {
        "id": "6T6cQRY1-P7V"
      }
    }
  ],
  "metadata": {
    "accelerator": "GPU",
    "colab": {
      "provenance": [],
      "machine_shape": "hm",
      "gpuType": "V100"
    },
    "kernelspec": {
      "display_name": "Python 3",
      "name": "python3"
    },
    "language_info": {
      "name": "python"
    }
  },
  "nbformat": 4,
  "nbformat_minor": 0
}